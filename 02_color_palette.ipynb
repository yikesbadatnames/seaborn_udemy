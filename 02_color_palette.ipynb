{
 "cells": [
  {
   "cell_type": "markdown",
   "source": [
    "# Who is ready for some pretty colors?\n",
    "# Color Palette Baby!\n",
    "-------------------------------------------------\n",
    "What is a color Palette? it is matching colors, to numbers\n",
    "\n",
    "Some Helpful Defitions:\n",
    "* Palette: In computer graphics, is the set of available colors\n",
    "* Hue: Hues refer to the set of pure colors within a color space. Hue defines pure colors as one of the six Primary and secondary Colors\n",
    "* Saturation: Saturation refers to the intensity of color in an image, that is the strength or weakness of a color.\n",
    "* Lightness: Lightness of a color specificies how \"bright\" the color should be. 0% means the black. 100% means white.\n",
    "* Color wheel: A color wheel is a visual organization tool of color hues around a cirlce that help make the basic categories of color easier to understand. \n",
    "  it shows the relationship between primary, secondary, and tertiary colors. it can be used as a point of reference when creating customized palettes\n",
    "* Color model: Provide various methods to define colors, each model defining colors through the use of specific color compents. "
   ],
   "metadata": {}
  },
  {
   "cell_type": "code",
   "execution_count": 2,
   "source": [
    "import numpy as np\n",
    "import pandas as pd\n",
    "import matplotlib.pyplot as plt\n",
    "import seaborn as sns\n",
    "sns.set_theme(style=\"darkgrid\")\n"
   ],
   "outputs": [],
   "metadata": {}
  },
  {
   "cell_type": "code",
   "execution_count": null,
   "source": [],
   "outputs": [],
   "metadata": {}
  }
 ],
 "metadata": {
  "orig_nbformat": 4,
  "language_info": {
   "name": "python",
   "version": "3.8.8",
   "mimetype": "text/x-python",
   "codemirror_mode": {
    "name": "ipython",
    "version": 3
   },
   "pygments_lexer": "ipython3",
   "nbconvert_exporter": "python",
   "file_extension": ".py"
  },
  "kernelspec": {
   "name": "python3",
   "display_name": "Python 3.8.8 64-bit ('PythonData': conda)"
  },
  "interpreter": {
   "hash": "ed32f2d57e4b098cb1fb01d8a618bbe0b6e2bfda5890389b41057b0406136066"
  }
 },
 "nbformat": 4,
 "nbformat_minor": 2
}